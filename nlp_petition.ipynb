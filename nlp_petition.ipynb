{
  "nbformat": 4,
  "nbformat_minor": 0,
  "metadata": {
    "colab": {
      "name": "nlp_petition.ipynb",
      "provenance": [],
      "machine_shape": "hm",
      "collapsed_sections": []
    },
    "kernelspec": {
      "name": "python3",
      "display_name": "Python 3"
    },
    "language_info": {
      "name": "python"
    },
    "accelerator": "GPU"
  },
  "cells": [
    {
      "cell_type": "markdown",
      "source": [
        "### Import Library"
      ],
      "metadata": {
        "id": "gbYQ9VHdfABK"
      }
    },
    {
      "cell_type": "code",
      "source": [
        "from google.colab import drive\n",
        "drive.mount('/content/drive')"
      ],
      "metadata": {
        "colab": {
          "base_uri": "https://localhost:8080/"
        },
        "id": "EXIAMPD4TF3-",
        "outputId": "e89f39b5-1050-49ed-fa25-40d04b92a8e8"
      },
      "execution_count": 1,
      "outputs": [
        {
          "output_type": "stream",
          "name": "stdout",
          "text": [
            "Mounted at /content/drive\n"
          ]
        }
      ]
    },
    {
      "cell_type": "code",
      "source": [
        "!pip install konlpy"
      ],
      "metadata": {
        "colab": {
          "base_uri": "https://localhost:8080/"
        },
        "id": "XX9GVP6uNIlK",
        "outputId": "ac242561-d99f-4106-dfff-bf0336e48c91"
      },
      "execution_count": 2,
      "outputs": [
        {
          "output_type": "stream",
          "name": "stdout",
          "text": [
            "Collecting konlpy\n",
            "  Downloading konlpy-0.5.2-py2.py3-none-any.whl (19.4 MB)\n",
            "\u001b[K     |████████████████████████████████| 19.4 MB 3.7 MB/s \n",
            "\u001b[?25hRequirement already satisfied: lxml>=4.1.0 in /usr/local/lib/python3.7/dist-packages (from konlpy) (4.2.6)\n",
            "Collecting beautifulsoup4==4.6.0\n",
            "  Downloading beautifulsoup4-4.6.0-py3-none-any.whl (86 kB)\n",
            "\u001b[K     |████████████████████████████████| 86 kB 6.9 MB/s \n",
            "\u001b[?25hCollecting colorama\n",
            "  Downloading colorama-0.4.4-py2.py3-none-any.whl (16 kB)\n",
            "Collecting JPype1>=0.7.0\n",
            "  Downloading JPype1-1.3.0-cp37-cp37m-manylinux_2_5_x86_64.manylinux1_x86_64.whl (448 kB)\n",
            "\u001b[K     |████████████████████████████████| 448 kB 53.7 MB/s \n",
            "\u001b[?25hRequirement already satisfied: numpy>=1.6 in /usr/local/lib/python3.7/dist-packages (from konlpy) (1.19.5)\n",
            "Requirement already satisfied: tweepy>=3.7.0 in /usr/local/lib/python3.7/dist-packages (from konlpy) (3.10.0)\n",
            "Requirement already satisfied: typing-extensions in /usr/local/lib/python3.7/dist-packages (from JPype1>=0.7.0->konlpy) (3.10.0.2)\n",
            "Requirement already satisfied: requests-oauthlib>=0.7.0 in /usr/local/lib/python3.7/dist-packages (from tweepy>=3.7.0->konlpy) (1.3.0)\n",
            "Requirement already satisfied: requests[socks]>=2.11.1 in /usr/local/lib/python3.7/dist-packages (from tweepy>=3.7.0->konlpy) (2.23.0)\n",
            "Requirement already satisfied: six>=1.10.0 in /usr/local/lib/python3.7/dist-packages (from tweepy>=3.7.0->konlpy) (1.15.0)\n",
            "Requirement already satisfied: oauthlib>=3.0.0 in /usr/local/lib/python3.7/dist-packages (from requests-oauthlib>=0.7.0->tweepy>=3.7.0->konlpy) (3.1.1)\n",
            "Requirement already satisfied: idna<3,>=2.5 in /usr/local/lib/python3.7/dist-packages (from requests[socks]>=2.11.1->tweepy>=3.7.0->konlpy) (2.10)\n",
            "Requirement already satisfied: urllib3!=1.25.0,!=1.25.1,<1.26,>=1.21.1 in /usr/local/lib/python3.7/dist-packages (from requests[socks]>=2.11.1->tweepy>=3.7.0->konlpy) (1.24.3)\n",
            "Requirement already satisfied: chardet<4,>=3.0.2 in /usr/local/lib/python3.7/dist-packages (from requests[socks]>=2.11.1->tweepy>=3.7.0->konlpy) (3.0.4)\n",
            "Requirement already satisfied: certifi>=2017.4.17 in /usr/local/lib/python3.7/dist-packages (from requests[socks]>=2.11.1->tweepy>=3.7.0->konlpy) (2021.10.8)\n",
            "Requirement already satisfied: PySocks!=1.5.7,>=1.5.6 in /usr/local/lib/python3.7/dist-packages (from requests[socks]>=2.11.1->tweepy>=3.7.0->konlpy) (1.7.1)\n",
            "Installing collected packages: JPype1, colorama, beautifulsoup4, konlpy\n",
            "  Attempting uninstall: beautifulsoup4\n",
            "    Found existing installation: beautifulsoup4 4.6.3\n",
            "    Uninstalling beautifulsoup4-4.6.3:\n",
            "      Successfully uninstalled beautifulsoup4-4.6.3\n",
            "Successfully installed JPype1-1.3.0 beautifulsoup4-4.6.0 colorama-0.4.4 konlpy-0.5.2\n"
          ]
        }
      ]
    },
    {
      "cell_type": "code",
      "execution_count": 3,
      "metadata": {
        "id": "kLV5mFbX0OK-"
      },
      "outputs": [],
      "source": [
        "import pandas as pd\n",
        "import numpy as np\n",
        "from numpy.random import RandomState\n",
        "import requests\n",
        "from bs4 import BeautifulSoup\n",
        "import time\n",
        "\n",
        "import re\n",
        "\n",
        "from konlpy.tag import Okt\n",
        "\n",
        "from gensim.models import Word2Vec\n",
        "from gensim.models import KeyedVectors\n",
        "\n",
        "import torch\n",
        "import torchtext\n",
        "from torchtext.legacy.data import Field, BucketIterator\n",
        "from torchtext.legacy.data import TabularDataset\n",
        "from torchtext.vocab import Vectors\n",
        "\n",
        "import torch.nn as nn\n",
        "import torch.optim as optim\n",
        "import torch.nn.functional as F"
      ]
    },
    {
      "cell_type": "markdown",
      "source": [
        "### Crawling"
      ],
      "metadata": {
        "id": "Qdkpao5TfEnl"
      }
    },
    {
      "cell_type": "code",
      "source": [
        "result = pd.DataFrame()\n",
        "\n",
        "for i in range(598000, 603255):\n",
        "    URL = \"http://www1.president.go.kr/petitions/\" + str(i)\n",
        "\n",
        "    response = requests.get(URL)\n",
        "    html = response.text\n",
        "    soup = BeautifulSoup(html, 'html.parser')\n",
        "    title = soup.find('h3', class_='petitionsView_title')\n",
        "    count = soup.find('span', class_='counter')\n",
        "\n",
        "    for content in soup.select('div.petitionsView_write > div.View_write'):\n",
        "        content\n",
        "    \n",
        "    a = []\n",
        "    for tag in soup.select('ul.petitionsView_info_list > li'):\n",
        "        a.append(tag.contents[1])\n",
        "\n",
        "    if len(a) != 0:\n",
        "        df1 = pd.DataFrame({'start':[a[1]],\n",
        "                            'end':[a[2]],\n",
        "                            'category':[a[0]],\n",
        "                            'count':[count.text],\n",
        "                            'title':[title.text],\n",
        "                            'content':[content.text.strip()[0:13000]]\n",
        "                            })\n",
        "        result = pd.concat([result, df1])\n",
        "        result.index = np.arange(len(result))\n",
        "\n",
        "    if i % 60 == 0:\n",
        "        print('Sleep 90 seconds. Count:' + str(i)\n",
        "                + ', Local Time:'\n",
        "                + time.strftime('%Y-%m-%d', time.localtime(time.time()))\n",
        "                + '' + time.strftime('%X', time.localtime(time.time()))\n",
        "                + ', Data Length:' + str(len(result)))\n",
        "        time.sleep(90)"
      ],
      "metadata": {
        "colab": {
          "base_uri": "https://localhost:8080/"
        },
        "id": "O1MrzkPM0zz6",
        "outputId": "dba313c9-c11a-484b-a9b8-036bd0af36cc"
      },
      "execution_count": 4,
      "outputs": [
        {
          "output_type": "stream",
          "name": "stdout",
          "text": [
            "Sleep 90 seconds. Count:598020, Local Time:2021-12-2501:13:57, Data Length:21\n",
            "Sleep 90 seconds. Count:598080, Local Time:2021-12-2501:15:46, Data Length:81\n",
            "Sleep 90 seconds. Count:598140, Local Time:2021-12-2501:17:27, Data Length:141\n",
            "Sleep 90 seconds. Count:598200, Local Time:2021-12-2501:19:09, Data Length:201\n",
            "Sleep 90 seconds. Count:598260, Local Time:2021-12-2501:20:50, Data Length:261\n",
            "Sleep 90 seconds. Count:598320, Local Time:2021-12-2501:22:31, Data Length:320\n",
            "Sleep 90 seconds. Count:598380, Local Time:2021-12-2501:24:11, Data Length:380\n",
            "Sleep 90 seconds. Count:598440, Local Time:2021-12-2501:25:52, Data Length:440\n",
            "Sleep 90 seconds. Count:598500, Local Time:2021-12-2501:27:34, Data Length:499\n",
            "Sleep 90 seconds. Count:598560, Local Time:2021-12-2501:29:09, Data Length:499\n",
            "Sleep 90 seconds. Count:598620, Local Time:2021-12-2501:30:48, Data Length:537\n",
            "Sleep 90 seconds. Count:598680, Local Time:2021-12-2501:32:25, Data Length:565\n",
            "Sleep 90 seconds. Count:598740, Local Time:2021-12-2501:34:08, Data Length:625\n",
            "Sleep 90 seconds. Count:598800, Local Time:2021-12-2501:35:48, Data Length:684\n",
            "Sleep 90 seconds. Count:598860, Local Time:2021-12-2501:37:33, Data Length:744\n",
            "Sleep 90 seconds. Count:598920, Local Time:2021-12-2501:39:15, Data Length:803\n",
            "Sleep 90 seconds. Count:598980, Local Time:2021-12-2501:40:59, Data Length:862\n",
            "Sleep 90 seconds. Count:599040, Local Time:2021-12-2501:42:40, Data Length:921\n",
            "Sleep 90 seconds. Count:599100, Local Time:2021-12-2501:44:14, Data Length:921\n",
            "Sleep 90 seconds. Count:599160, Local Time:2021-12-2501:45:56, Data Length:956\n",
            "Sleep 90 seconds. Count:599220, Local Time:2021-12-2501:47:31, Data Length:956\n",
            "Sleep 90 seconds. Count:599280, Local Time:2021-12-2501:49:12, Data Length:999\n",
            "Sleep 90 seconds. Count:599340, Local Time:2021-12-2501:50:47, Data Length:999\n",
            "Sleep 90 seconds. Count:599400, Local Time:2021-12-2501:52:21, Data Length:999\n",
            "Sleep 90 seconds. Count:599460, Local Time:2021-12-2501:54:02, Data Length:1058\n",
            "Sleep 90 seconds. Count:599520, Local Time:2021-12-2501:55:36, Data Length:1058\n",
            "Sleep 90 seconds. Count:599580, Local Time:2021-12-2501:57:17, Data Length:1118\n",
            "Sleep 90 seconds. Count:599640, Local Time:2021-12-2501:58:52, Data Length:1118\n",
            "Sleep 90 seconds. Count:599700, Local Time:2021-12-2502:00:27, Data Length:1118\n",
            "Sleep 90 seconds. Count:599760, Local Time:2021-12-2502:02:04, Data Length:1144\n",
            "Sleep 90 seconds. Count:599820, Local Time:2021-12-2502:03:41, Data Length:1168\n",
            "Sleep 90 seconds. Count:599880, Local Time:2021-12-2502:05:22, Data Length:1226\n",
            "Sleep 90 seconds. Count:599940, Local Time:2021-12-2502:06:58, Data Length:1234\n",
            "Sleep 90 seconds. Count:600000, Local Time:2021-12-2502:08:34, Data Length:1239\n",
            "Sleep 90 seconds. Count:600060, Local Time:2021-12-2502:10:16, Data Length:1299\n",
            "Sleep 90 seconds. Count:600120, Local Time:2021-12-2502:11:57, Data Length:1358\n",
            "Sleep 90 seconds. Count:600180, Local Time:2021-12-2502:13:32, Data Length:1358\n",
            "Sleep 90 seconds. Count:600240, Local Time:2021-12-2502:15:07, Data Length:1358\n",
            "Sleep 90 seconds. Count:600300, Local Time:2021-12-2502:16:47, Data Length:1416\n",
            "Sleep 90 seconds. Count:600360, Local Time:2021-12-2502:18:22, Data Length:1416\n",
            "Sleep 90 seconds. Count:600420, Local Time:2021-12-2502:19:56, Data Length:1416\n",
            "Sleep 90 seconds. Count:600480, Local Time:2021-12-2502:21:36, Data Length:1467\n",
            "Sleep 90 seconds. Count:600540, Local Time:2021-12-2502:23:11, Data Length:1467\n",
            "Sleep 90 seconds. Count:600600, Local Time:2021-12-2502:24:46, Data Length:1467\n",
            "Sleep 90 seconds. Count:600660, Local Time:2021-12-2502:26:22, Data Length:1467\n",
            "Sleep 90 seconds. Count:600720, Local Time:2021-12-2502:27:57, Data Length:1467\n",
            "Sleep 90 seconds. Count:600780, Local Time:2021-12-2502:29:37, Data Length:1525\n",
            "Sleep 90 seconds. Count:600840, Local Time:2021-12-2502:31:12, Data Length:1525\n",
            "Sleep 90 seconds. Count:600900, Local Time:2021-12-2502:32:47, Data Length:1525\n",
            "Sleep 90 seconds. Count:600960, Local Time:2021-12-2502:34:22, Data Length:1525\n",
            "Sleep 90 seconds. Count:601020, Local Time:2021-12-2502:35:57, Data Length:1525\n",
            "Sleep 90 seconds. Count:601080, Local Time:2021-12-2502:37:35, Data Length:1551\n",
            "Sleep 90 seconds. Count:601140, Local Time:2021-12-2502:39:19, Data Length:1610\n",
            "Sleep 90 seconds. Count:601200, Local Time:2021-12-2502:40:53, Data Length:1610\n",
            "Sleep 90 seconds. Count:601260, Local Time:2021-12-2502:42:33, Data Length:1661\n",
            "Sleep 90 seconds. Count:601320, Local Time:2021-12-2502:45:18, Data Length:1720\n",
            "Sleep 90 seconds. Count:601380, Local Time:2021-12-2502:46:56, Data Length:1743\n",
            "Sleep 90 seconds. Count:601440, Local Time:2021-12-2502:48:37, Data Length:1802\n",
            "Sleep 90 seconds. Count:601500, Local Time:2021-12-2502:50:12, Data Length:1804\n",
            "Sleep 90 seconds. Count:601560, Local Time:2021-12-2502:51:47, Data Length:1804\n",
            "Sleep 90 seconds. Count:601620, Local Time:2021-12-2502:53:28, Data Length:1863\n",
            "Sleep 90 seconds. Count:601680, Local Time:2021-12-2502:56:10, Data Length:1922\n",
            "Sleep 90 seconds. Count:601740, Local Time:2021-12-2502:57:54, Data Length:1982\n",
            "Sleep 90 seconds. Count:601800, Local Time:2021-12-2502:59:39, Data Length:2042\n",
            "Sleep 90 seconds. Count:601860, Local Time:2021-12-2503:01:20, Data Length:2102\n",
            "Sleep 90 seconds. Count:601920, Local Time:2021-12-2503:03:01, Data Length:2162\n",
            "Sleep 90 seconds. Count:601980, Local Time:2021-12-2503:04:42, Data Length:2222\n",
            "Sleep 90 seconds. Count:602040, Local Time:2021-12-2503:06:23, Data Length:2281\n",
            "Sleep 90 seconds. Count:602100, Local Time:2021-12-2503:07:58, Data Length:2281\n",
            "Sleep 90 seconds. Count:602160, Local Time:2021-12-2503:09:35, Data Length:2306\n",
            "Sleep 90 seconds. Count:602220, Local Time:2021-12-2503:11:10, Data Length:2306\n",
            "Sleep 90 seconds. Count:602280, Local Time:2021-12-2503:12:52, Data Length:2366\n",
            "Sleep 90 seconds. Count:602340, Local Time:2021-12-2503:14:32, Data Length:2426\n",
            "Sleep 90 seconds. Count:602400, Local Time:2021-12-2503:16:11, Data Length:2429\n",
            "Sleep 90 seconds. Count:602460, Local Time:2021-12-2503:17:49, Data Length:2458\n",
            "Sleep 90 seconds. Count:602520, Local Time:2021-12-2503:19:26, Data Length:2482\n",
            "Sleep 90 seconds. Count:602580, Local Time:2021-12-2503:21:07, Data Length:2541\n",
            "Sleep 90 seconds. Count:602640, Local Time:2021-12-2503:22:49, Data Length:2601\n",
            "Sleep 90 seconds. Count:602700, Local Time:2021-12-2503:24:28, Data Length:2609\n",
            "Sleep 90 seconds. Count:602760, Local Time:2021-12-2503:26:09, Data Length:2668\n",
            "Sleep 90 seconds. Count:602820, Local Time:2021-12-2503:27:44, Data Length:2668\n",
            "Sleep 90 seconds. Count:602880, Local Time:2021-12-2503:29:20, Data Length:2675\n",
            "Sleep 90 seconds. Count:602940, Local Time:2021-12-2503:31:01, Data Length:2734\n",
            "Sleep 90 seconds. Count:603000, Local Time:2021-12-2503:32:41, Data Length:2794\n",
            "Sleep 90 seconds. Count:603060, Local Time:2021-12-2503:34:17, Data Length:2799\n",
            "Sleep 90 seconds. Count:603120, Local Time:2021-12-2503:35:51, Data Length:2799\n",
            "Sleep 90 seconds. Count:603180, Local Time:2021-12-2503:37:27, Data Length:2807\n",
            "Sleep 90 seconds. Count:603240, Local Time:2021-12-2503:39:08, Data Length:2867\n"
          ]
        }
      ]
    },
    {
      "cell_type": "code",
      "source": [
        "print(result.shape)\n",
        "df = result\n",
        "df.head()"
      ],
      "metadata": {
        "id": "e0Hf07RV3ePW",
        "colab": {
          "base_uri": "https://localhost:8080/",
          "height": 355
        },
        "outputId": "f66ed4e0-e4ac-426f-b375-228e79a74262"
      },
      "execution_count": 5,
      "outputs": [
        {
          "output_type": "stream",
          "name": "stdout",
          "text": [
            "(2867, 6)\n"
          ]
        },
        {
          "output_type": "execute_result",
          "data": {
            "text/html": [
              "\n",
              "  <div id=\"df-a372f5e0-4f75-4bf8-a81f-fdbf19e82255\">\n",
              "    <div class=\"colab-df-container\">\n",
              "      <div>\n",
              "<style scoped>\n",
              "    .dataframe tbody tr th:only-of-type {\n",
              "        vertical-align: middle;\n",
              "    }\n",
              "\n",
              "    .dataframe tbody tr th {\n",
              "        vertical-align: top;\n",
              "    }\n",
              "\n",
              "    .dataframe thead th {\n",
              "        text-align: right;\n",
              "    }\n",
              "</style>\n",
              "<table border=\"1\" class=\"dataframe\">\n",
              "  <thead>\n",
              "    <tr style=\"text-align: right;\">\n",
              "      <th></th>\n",
              "      <th>start</th>\n",
              "      <th>end</th>\n",
              "      <th>category</th>\n",
              "      <th>count</th>\n",
              "      <th>title</th>\n",
              "      <th>content</th>\n",
              "    </tr>\n",
              "  </thead>\n",
              "  <tbody>\n",
              "    <tr>\n",
              "      <th>0</th>\n",
              "      <td>2021-04-28</td>\n",
              "      <td>2021-05-28</td>\n",
              "      <td>기타</td>\n",
              "      <td>1,812</td>\n",
              "      <td>촉법소년법의 개정을 요구합니다.</td>\n",
              "      <td>안녕하세요? 서울**초등학교의 6학년 1반 학생들입니다. 저희는 아주 불공정한 내용...</td>\n",
              "    </tr>\n",
              "    <tr>\n",
              "      <th>1</th>\n",
              "      <td>2021-04-29</td>\n",
              "      <td>2021-05-29</td>\n",
              "      <td>보건복지</td>\n",
              "      <td>801</td>\n",
              "      <td>국산 코로나 백신을 역수입 할 수 있습니다</td>\n",
              "      <td>강원에도 소재하고 있는 ******* 라는 바이오회사 있습니다\\n\\r\\n******...</td>\n",
              "    </tr>\n",
              "    <tr>\n",
              "      <th>2</th>\n",
              "      <td>2021-04-29</td>\n",
              "      <td>2021-05-29</td>\n",
              "      <td>기타</td>\n",
              "      <td>1,794</td>\n",
              "      <td>삼성 이재용 부회장 가석방을 진심으로 청원합니다</td>\n",
              "      <td>삼성 이재용 부회장의 가석방을 진심으로 청원합니다. \\n\\r\\n저는 전남 해남에서 ...</td>\n",
              "    </tr>\n",
              "    <tr>\n",
              "      <th>3</th>\n",
              "      <td>2021-04-29</td>\n",
              "      <td>2021-05-29</td>\n",
              "      <td>외교/통일/국방</td>\n",
              "      <td>585</td>\n",
              "      <td>국군장병들은 화이자 백신 맞게 해주세요.</td>\n",
              "      <td>저는 아들과 딸 모두 둔 주부입니다. 지금 저희 아들은 지금 공군에 입대해 있고 딸...</td>\n",
              "    </tr>\n",
              "    <tr>\n",
              "      <th>4</th>\n",
              "      <td>2021-04-29</td>\n",
              "      <td>2021-05-29</td>\n",
              "      <td>안전/환경</td>\n",
              "      <td>331</td>\n",
              "      <td>보이스피싱 취업사기로 피의자가 되고, 보이스피싱 사기대출문자로 피해자가 되었습니다.</td>\n",
              "      <td>보이스피싱 대출문자 차단과 모집책 광고중지 청원\\n\\r\\n[문재인 대통령은 2020...</td>\n",
              "    </tr>\n",
              "  </tbody>\n",
              "</table>\n",
              "</div>\n",
              "      <button class=\"colab-df-convert\" onclick=\"convertToInteractive('df-a372f5e0-4f75-4bf8-a81f-fdbf19e82255')\"\n",
              "              title=\"Convert this dataframe to an interactive table.\"\n",
              "              style=\"display:none;\">\n",
              "        \n",
              "  <svg xmlns=\"http://www.w3.org/2000/svg\" height=\"24px\"viewBox=\"0 0 24 24\"\n",
              "       width=\"24px\">\n",
              "    <path d=\"M0 0h24v24H0V0z\" fill=\"none\"/>\n",
              "    <path d=\"M18.56 5.44l.94 2.06.94-2.06 2.06-.94-2.06-.94-.94-2.06-.94 2.06-2.06.94zm-11 1L8.5 8.5l.94-2.06 2.06-.94-2.06-.94L8.5 2.5l-.94 2.06-2.06.94zm10 10l.94 2.06.94-2.06 2.06-.94-2.06-.94-.94-2.06-.94 2.06-2.06.94z\"/><path d=\"M17.41 7.96l-1.37-1.37c-.4-.4-.92-.59-1.43-.59-.52 0-1.04.2-1.43.59L10.3 9.45l-7.72 7.72c-.78.78-.78 2.05 0 2.83L4 21.41c.39.39.9.59 1.41.59.51 0 1.02-.2 1.41-.59l7.78-7.78 2.81-2.81c.8-.78.8-2.07 0-2.86zM5.41 20L4 18.59l7.72-7.72 1.47 1.35L5.41 20z\"/>\n",
              "  </svg>\n",
              "      </button>\n",
              "      \n",
              "  <style>\n",
              "    .colab-df-container {\n",
              "      display:flex;\n",
              "      flex-wrap:wrap;\n",
              "      gap: 12px;\n",
              "    }\n",
              "\n",
              "    .colab-df-convert {\n",
              "      background-color: #E8F0FE;\n",
              "      border: none;\n",
              "      border-radius: 50%;\n",
              "      cursor: pointer;\n",
              "      display: none;\n",
              "      fill: #1967D2;\n",
              "      height: 32px;\n",
              "      padding: 0 0 0 0;\n",
              "      width: 32px;\n",
              "    }\n",
              "\n",
              "    .colab-df-convert:hover {\n",
              "      background-color: #E2EBFA;\n",
              "      box-shadow: 0px 1px 2px rgba(60, 64, 67, 0.3), 0px 1px 3px 1px rgba(60, 64, 67, 0.15);\n",
              "      fill: #174EA6;\n",
              "    }\n",
              "\n",
              "    [theme=dark] .colab-df-convert {\n",
              "      background-color: #3B4455;\n",
              "      fill: #D2E3FC;\n",
              "    }\n",
              "\n",
              "    [theme=dark] .colab-df-convert:hover {\n",
              "      background-color: #434B5C;\n",
              "      box-shadow: 0px 1px 3px 1px rgba(0, 0, 0, 0.15);\n",
              "      filter: drop-shadow(0px 1px 2px rgba(0, 0, 0, 0.3));\n",
              "      fill: #FFFFFF;\n",
              "    }\n",
              "  </style>\n",
              "\n",
              "      <script>\n",
              "        const buttonEl =\n",
              "          document.querySelector('#df-a372f5e0-4f75-4bf8-a81f-fdbf19e82255 button.colab-df-convert');\n",
              "        buttonEl.style.display =\n",
              "          google.colab.kernel.accessAllowed ? 'block' : 'none';\n",
              "\n",
              "        async function convertToInteractive(key) {\n",
              "          const element = document.querySelector('#df-a372f5e0-4f75-4bf8-a81f-fdbf19e82255');\n",
              "          const dataTable =\n",
              "            await google.colab.kernel.invokeFunction('convertToInteractive',\n",
              "                                                     [key], {});\n",
              "          if (!dataTable) return;\n",
              "\n",
              "          const docLinkHtml = 'Like what you see? Visit the ' +\n",
              "            '<a target=\"_blank\" href=https://colab.research.google.com/notebooks/data_table.ipynb>data table notebook</a>'\n",
              "            + ' to learn more about interactive tables.';\n",
              "          element.innerHTML = '';\n",
              "          dataTable['output_type'] = 'display_data';\n",
              "          await google.colab.output.renderOutput(dataTable, element);\n",
              "          const docLink = document.createElement('div');\n",
              "          docLink.innerHTML = docLinkHtml;\n",
              "          element.appendChild(docLink);\n",
              "        }\n",
              "      </script>\n",
              "    </div>\n",
              "  </div>\n",
              "  "
            ],
            "text/plain": [
              "        start  ...                                            content\n",
              "0  2021-04-28  ...  안녕하세요? 서울**초등학교의 6학년 1반 학생들입니다. 저희는 아주 불공정한 내용...\n",
              "1  2021-04-29  ...  강원에도 소재하고 있는 ******* 라는 바이오회사 있습니다\\n\\r\\n******...\n",
              "2  2021-04-29  ...  삼성 이재용 부회장의 가석방을 진심으로 청원합니다. \\n\\r\\n저는 전남 해남에서 ...\n",
              "3  2021-04-29  ...  저는 아들과 딸 모두 둔 주부입니다. 지금 저희 아들은 지금 공군에 입대해 있고 딸...\n",
              "4  2021-04-29  ...  보이스피싱 대출문자 차단과 모집책 광고중지 청원\\n\\r\\n[문재인 대통령은 2020...\n",
              "\n",
              "[5 rows x 6 columns]"
            ]
          },
          "metadata": {},
          "execution_count": 5
        }
      ]
    },
    {
      "cell_type": "code",
      "source": [
        "df.loc[1]['content']"
      ],
      "metadata": {
        "id": "2Q-k11lZ6ODr",
        "colab": {
          "base_uri": "https://localhost:8080/",
          "height": 126
        },
        "outputId": "be0224ee-c568-4809-b64c-8511db0cc9b3"
      },
      "execution_count": 6,
      "outputs": [
        {
          "output_type": "execute_result",
          "data": {
            "application/vnd.google.colaboratory.intrinsic+json": {
              "type": "string"
            },
            "text/plain": [
              "'강원에도 소재하고 있는 ******* 라는 바이오회사 있습니다\\n\\r\\n*******에서 개발 및 임상 중인 코로나 백신은 외국 제품과 달리 무엇보다 안정성이 우수하고 코로나 예방효과가 우수하여\\n\\r\\n현재 필리핀과 기술이전 및 현지 생산시설 건설과 4천만도즈 선 계약에 관한 의향서를 주고 받았습니다\\n\\r\\n국내에서 1, 2 임상 동시 신청 후 1상 완료되었으며 2상 자원자 모집을 하고 있습니다\\n\\r\\n필리핀에서 긴급사용승인이 나면 우리나라에서 역수입 하는 상황이 발생할 수 있습니다\\n\\r\\n외국산 백신에 의존만 하지 마시고\\n\\r\\n아직 임상 진행 중이지만 전문가들 의견을 종합하면 부작용이 거의 없으며 백신 예방 효과가 우수하다는 의견이 대다수 차지 합니다\\n\\r\\n하여 국내에서 개발중인 순수 토종 백신을 해외에서 역수입 하기 전에 긴급사용승인 시 국민의 안전한 백신접종을 위해 *******와 조건부 선구매 예약이라도 하시길 고언 드립니다\\n\\r\\n필리핀에서 긴급사욘승인 나면 역수입 하는 웃픈 상황이 발생하게 됩니다\\n\\r\\n안정성이 우수하고 백신 예방효과 또한 우수한 *******에서 개발 및 임상 중인 백신을 확보해주실것을 청원 합니다\\n\\n [본 게시물의 일부 내용이 국민 청원 요건에 위배되어 관리자에 의해 수정되었습니다]'"
            ]
          },
          "metadata": {},
          "execution_count": 6
        }
      ]
    },
    {
      "cell_type": "markdown",
      "source": [
        "### Preprocessing"
      ],
      "metadata": {
        "id": "Sx3I7PVRfTav"
      }
    },
    {
      "cell_type": "code",
      "source": [
        "def remove_white_space(text):\n",
        "    text = re.sub(r'[\\t\\r\\b\\f\\v]', ' ', str(text))\n",
        "    return text"
      ],
      "metadata": {
        "id": "AXISXqaz6OGb"
      },
      "execution_count": 7,
      "outputs": []
    },
    {
      "cell_type": "code",
      "source": [
        "def remove_special_char(text):\n",
        "    text = re.sub('[^ ㄱ-ㅣ가-힣 0-9]+', ' ', str(text))\n",
        "    return text"
      ],
      "metadata": {
        "id": "76LYpZnr6OI8"
      },
      "execution_count": 8,
      "outputs": []
    },
    {
      "cell_type": "code",
      "source": [
        "df.title = df.title.apply(remove_white_space)\n",
        "df.title = df.title.apply(remove_special_char)\n",
        "\n",
        "df.content = df.content.apply(remove_white_space)\n",
        "df.content = df.content.apply(remove_special_char)"
      ],
      "metadata": {
        "id": "SrEkHklc6OLm"
      },
      "execution_count": 9,
      "outputs": []
    },
    {
      "cell_type": "code",
      "source": [
        "df.loc[1]['content']"
      ],
      "metadata": {
        "id": "ijkJ06zn6OON",
        "colab": {
          "base_uri": "https://localhost:8080/",
          "height": 126
        },
        "outputId": "db9c64c3-2c14-4553-df9a-d818f504a9e2"
      },
      "execution_count": 10,
      "outputs": [
        {
          "output_type": "execute_result",
          "data": {
            "application/vnd.google.colaboratory.intrinsic+json": {
              "type": "string"
            },
            "text/plain": [
              "'강원에도 소재하고 있는   라는 바이오회사 있습니다   에서 개발 및 임상 중인 코로나 백신은 외국 제품과 달리 무엇보다 안정성이 우수하고 코로나 예방효과가 우수하여   현재 필리핀과 기술이전 및 현지 생산시설 건설과 4천만도즈 선 계약에 관한 의향서를 주고 받았습니다   국내에서 1  2 임상 동시 신청 후 1상 완료되었으며 2상 자원자 모집을 하고 있습니다   필리핀에서 긴급사용승인이 나면 우리나라에서 역수입 하는 상황이 발생할 수 있습니다   외국산 백신에 의존만 하지 마시고   아직 임상 진행 중이지만 전문가들 의견을 종합하면 부작용이 거의 없으며 백신 예방 효과가 우수하다는 의견이 대다수 차지 합니다   하여 국내에서 개발중인 순수 토종 백신을 해외에서 역수입 하기 전에 긴급사용승인 시 국민의 안전한 백신접종을 위해  와 조건부 선구매 예약이라도 하시길 고언 드립니다   필리핀에서 긴급사욘승인 나면 역수입 하는 웃픈 상황이 발생하게 됩니다   안정성이 우수하고 백신 예방효과 또한 우수한  에서 개발 및 임상 중인 백신을 확보해주실것을 청원 합니다   본 게시물의 일부 내용이 국민 청원 요건에 위배되어 관리자에 의해 수정되었습니다 '"
            ]
          },
          "metadata": {},
          "execution_count": 10
        }
      ]
    },
    {
      "cell_type": "markdown",
      "source": [
        "### Tokenizing"
      ],
      "metadata": {
        "id": "uTINCISHfapO"
      }
    },
    {
      "cell_type": "code",
      "source": [
        "okt = Okt()"
      ],
      "metadata": {
        "id": "cDQb7hzI6OQm"
      },
      "execution_count": 11,
      "outputs": []
    },
    {
      "cell_type": "code",
      "source": [
        "df['title_token'] = df.title.apply(okt.morphs)\n",
        "\n",
        "df['content_token'] = df.content.apply(okt.nouns)"
      ],
      "metadata": {
        "id": "ZgalEftJOSc0"
      },
      "execution_count": 12,
      "outputs": []
    },
    {
      "cell_type": "markdown",
      "source": [
        "### Making Derived Variable"
      ],
      "metadata": {
        "id": "EAJmsi4yfgtr"
      }
    },
    {
      "cell_type": "code",
      "source": [
        "df['token_final'] = df.title_token + df.content_token\n",
        "\n",
        "df['count'] = df['count'].replace({',' : ''}, regex=True).apply(lambda x : int(x))\n",
        "\n",
        "df['label'] = df['count'].apply(lambda x : 'Yes' if x >= 1000 else 'No')\n",
        "\n",
        "print(df.dtypes)"
      ],
      "metadata": {
        "id": "VOFsCz_ZOSfL",
        "colab": {
          "base_uri": "https://localhost:8080/"
        },
        "outputId": "707f098d-08f3-4aa0-dd19-f0c864b646a2"
      },
      "execution_count": 13,
      "outputs": [
        {
          "output_type": "stream",
          "name": "stdout",
          "text": [
            "start            object\n",
            "end              object\n",
            "category         object\n",
            "count             int64\n",
            "title            object\n",
            "content          object\n",
            "title_token      object\n",
            "content_token    object\n",
            "token_final      object\n",
            "label            object\n",
            "dtype: object\n"
          ]
        }
      ]
    },
    {
      "cell_type": "code",
      "source": [
        "df_drop = df[['token_final', 'label']]"
      ],
      "metadata": {
        "id": "MYgWi_7nOShb"
      },
      "execution_count": 14,
      "outputs": []
    },
    {
      "cell_type": "markdown",
      "source": [
        "### Embedding"
      ],
      "metadata": {
        "id": "VScIlhuafy1y"
      }
    },
    {
      "cell_type": "code",
      "source": [
        "embedding_model = Word2Vec(df_drop['token_final'],\n",
        "                           sg=1,\n",
        "                           size=100,\n",
        "                           window=2,\n",
        "                           min_count=1,\n",
        "                           workers=4\n",
        "                           )\n",
        "\n",
        "print(embedding_model)"
      ],
      "metadata": {
        "id": "Rq5h0C1TOSjz",
        "colab": {
          "base_uri": "https://localhost:8080/"
        },
        "outputId": "53f77393-d3e4-4e8b-a8a1-572a52a18d8a"
      },
      "execution_count": 16,
      "outputs": [
        {
          "output_type": "stream",
          "name": "stdout",
          "text": [
            "Word2Vec(vocab=26088, size=100, alpha=0.025)\n"
          ]
        }
      ]
    },
    {
      "cell_type": "code",
      "source": [
        "model_result = embedding_model.wv.most_similar('음주운전')\n",
        "\n",
        "print(model_result)"
      ],
      "metadata": {
        "id": "WIuz1b7_OSmR",
        "colab": {
          "base_uri": "https://localhost:8080/"
        },
        "outputId": "358584da-0b50-41c0-828a-c29bc6d44109"
      },
      "execution_count": 17,
      "outputs": [
        {
          "output_type": "stream",
          "name": "stdout",
          "text": [
            "[('뺑소니', 0.9133089184761047), ('형량', 0.9093856811523438), ('미수', 0.9004029631614685), ('살인', 0.8887459635734558), ('범', 0.8882108926773071), ('자살', 0.8842869400978088), ('가정폭력', 0.883514404296875), ('살인자', 0.8816543221473694), ('검거', 0.8769281506538391), ('죄질', 0.8725828528404236)]\n"
          ]
        }
      ]
    },
    {
      "cell_type": "code",
      "source": [
        "embedding_model.wv.save_word2vec_format('/content/drive/MyDrive/Data/nlp_petitions/petitions_tokens_w2v')\n",
        "\n",
        "loaded_model = KeyedVectors.load_word2vec_format('/content/drive/MyDrive/Data/nlp_petitions/petitions_tokens_w2v')\n",
        "\n",
        "model_result = loaded_model.most_similar('음주운전')\n",
        "\n",
        "print(model_result)"
      ],
      "metadata": {
        "id": "_WsowPTV6OSz",
        "colab": {
          "base_uri": "https://localhost:8080/"
        },
        "outputId": "76fe50ae-e68b-494a-c948-84d2edca7720"
      },
      "execution_count": 18,
      "outputs": [
        {
          "output_type": "stream",
          "name": "stdout",
          "text": [
            "[('뺑소니', 0.9133089184761047), ('형량', 0.9093856811523438), ('미수', 0.9004029631614685), ('살인', 0.8887459635734558), ('범', 0.8882108926773071), ('자살', 0.8842869400978088), ('가정폭력', 0.883514404296875), ('살인자', 0.8816543221473694), ('검거', 0.8769281506538391), ('죄질', 0.8725828528404236)]\n"
          ]
        }
      ]
    },
    {
      "cell_type": "markdown",
      "source": [
        "### Data Split"
      ],
      "metadata": {
        "id": "pdhZYfZbf22g"
      }
    },
    {
      "cell_type": "code",
      "source": [
        "rng = RandomState()\n",
        "\n",
        "tr = df_drop.sample(frac=0.8, random_state=rng)\n",
        "val = df_drop.loc[~df_drop.index.isin(tr.index)]\n",
        "\n",
        "tr.to_csv('/content/drive/MyDrive/Data/nlp_petitions/train.csv', index=False, encoding='utf-8-sig')\n",
        "val.to_csv('/content/drive/MyDrive/Data/nlp_petitions/validation.csv', index=False, encoding='utf-8-sig')"
      ],
      "metadata": {
        "id": "gylmYZ21RJQt"
      },
      "execution_count": 19,
      "outputs": []
    },
    {
      "cell_type": "markdown",
      "source": [
        "### Define Field Class"
      ],
      "metadata": {
        "id": "WyKU80Lhf7Pb"
      }
    },
    {
      "cell_type": "code",
      "source": [
        "def tokenizer(text):\n",
        "    text = re.sub('[\\[\\]\\']', '', str(text))\n",
        "    text = text.split(', ')\n",
        "    return text\n",
        "\n",
        "TEXT = Field(tokenize=tokenizer)\n",
        "LABEL = Field(sequential=False)"
      ],
      "metadata": {
        "id": "QovY_DeuRJTO"
      },
      "execution_count": 42,
      "outputs": []
    },
    {
      "cell_type": "markdown",
      "source": [
        "### Data Load"
      ],
      "metadata": {
        "id": "n3_VYi7AgB_y"
      }
    },
    {
      "cell_type": "code",
      "source": [
        "train, validation = TabularDataset.splits(\n",
        "    path='/content/drive/MyDrive/Data/nlp_petitions/',\n",
        "    train='train.csv',\n",
        "    validation='validation.csv',\n",
        "    format='csv',\n",
        "    fields=[('text', TEXT), ('label', LABEL)],\n",
        "    skip_header=True\n",
        ")\n",
        "\n",
        "print('Train:', train[0].text, train[0].label)\n",
        "print('Validation:', validation[0].text, validation[0].label)"
      ],
      "metadata": {
        "id": "ud9dZhhoRJVp",
        "colab": {
          "base_uri": "https://localhost:8080/"
        },
        "outputId": "2696c629-a4eb-475b-fc7c-a2c0b42e107d"
      },
      "execution_count": 43,
      "outputs": [
        {
          "output_type": "stream",
          "name": "stdout",
          "text": [
            "Train: ['국민소환제', '를', '입법', '화하여야', '합니다', '부정부패', '및', '무위도식', '국회의원', '국민', '직접', '파면', '수', '국민소환제', '입법', '여의도', '개혁', '입법', '방기', '국회의원', '특권', '때문', '대한민국', '적폐', '원흉', '따라서', '대한민국', '국민', '부정부패', '및', '무위도식', '국회의원', '직접', '파면', '수', '제도', '적장', '치가', '법불', '아귀', '준수', '대한민국', '구현', '수', '이', '정책', '제안', '대통령', '국민소환제', '도입', '법률', '안', '제정', '행해'] Yes\n",
            "Validation: ['국산', '코로나', '백신', '을', '역', '수입', '할', '수', '있습니다', '강원', '소재', '바이오', '회사', '개발', '및', '임', '중인', '코로나', '백신', '외국', '제품', '달리', '무엇', '안정', '코로나', '예방', '효과', '현재', '필리핀', '기술이전', '및', '현지', '생산', '시설', '건설', '선', '계약', '관', '의향', '를', '국내', '임', '동시', '신청', '후', '상', '완료', '상', '자원', '모집', '필리핀', '긴급', '사용승인', '우리나라', '역', '수입', '상황', '발생', '수', '외국산', '백신', '의존', '임', '진행', '중이', '전문가', '의견', '종합', '부작용', '거의', '백신', '예방', '효과', '의견', '대다수', '차지', '국내', '개발', '순수', '토종', '백신', '해외', '역', '수입', '전', '긴급', '사용승인', '시', '국민', '접종', '위해', '조건', '부', '선', '구매', '예약', '필리핀', '긴급', '욘', '승인', '역', '수입', '웃픈', '상황', '발생', '안정', '백신', '예방', '효과', '또한', '개발', '및', '임', '중인', '백신', '확보', '청원', '게시', '물의', '일부', '내용', '국민', '청원', '요건', '위배', '관리자', '수정'] No\n"
          ]
        }
      ]
    },
    {
      "cell_type": "markdown",
      "source": [
        "### Define DataLoader"
      ],
      "metadata": {
        "id": "V3iOvvAogGmd"
      }
    },
    {
      "cell_type": "code",
      "source": [
        "vectors = Vectors(name='/content/drive/MyDrive/Data/nlp_petitions/petitions_tokens_w2v')\n",
        "\n",
        "TEXT.build_vocab(train, vectors=vectors, min_freq=1, max_size=None)\n",
        "LABEL.build_vocab(train)\n",
        "\n",
        "vocab = TEXT.vocab"
      ],
      "metadata": {
        "id": "A8ivvJmWRJYY"
      },
      "execution_count": 44,
      "outputs": []
    },
    {
      "cell_type": "code",
      "source": [
        "device = torch.device('cuda' if torch.cuda.is_available() else 'cpu')"
      ],
      "metadata": {
        "id": "8iL4yTCLRJal"
      },
      "execution_count": 45,
      "outputs": []
    },
    {
      "cell_type": "code",
      "source": [
        "train_iter, validation_iter = BucketIterator.splits(\n",
        "    datasets=(train, validation),\n",
        "    batch_size=8,\n",
        "    device=device,\n",
        "    sort=False\n",
        ")\n",
        "\n",
        "print('임베딩 벡터의 개수와 차원 : {}'.format(TEXT.vocab.vectors.shape))"
      ],
      "metadata": {
        "id": "EFqeSJadRJdL",
        "colab": {
          "base_uri": "https://localhost:8080/"
        },
        "outputId": "948d202a-b966-4385-df2f-a6efee7674a2"
      },
      "execution_count": 46,
      "outputs": [
        {
          "output_type": "stream",
          "name": "stdout",
          "text": [
            "임베딩 벡터의 개수와 차원 : torch.Size([23770, 100])\n"
          ]
        }
      ]
    },
    {
      "cell_type": "markdown",
      "source": [
        "### TextCNN Modeling"
      ],
      "metadata": {
        "id": "dNoua8hdgKza"
      }
    },
    {
      "cell_type": "code",
      "source": [
        "class TextCNN(nn.Module): \n",
        "    \n",
        "    def __init__(self, vocab_built, emb_dim, dim_channel, kernel_wins, num_class):\n",
        "        \n",
        "        super(TextCNN, self).__init__()\n",
        "        \n",
        "        self.embed = nn.Embedding(len(vocab_built), emb_dim)\n",
        "        self.embed.weight.data.copy_(vocab_built.vectors)      \n",
        "    \n",
        "        self.convs = nn.ModuleList([nn.Conv2d(1, dim_channel, (w, emb_dim)) for w in kernel_wins])\n",
        "        self.relu = nn.ReLU()                \n",
        "        self.dropout = nn.Dropout(0.4)         \n",
        "        self.fc = nn.Linear(len(kernel_wins)*dim_channel, num_class)     \n",
        "        \n",
        "    def forward(self, x):  \n",
        "      \n",
        "        emb_x = self.embed(x)           \n",
        "        emb_x = emb_x.unsqueeze(1)  \n",
        "\n",
        "        con_x = [self.relu(conv(emb_x)) for conv in self.convs]       \n",
        "\n",
        "        pool_x = [F.max_pool1d(x.squeeze(-1), x.size()[2]) for x in con_x]    \n",
        "        \n",
        "        fc_x = torch.cat(pool_x, dim=1) \n",
        "        fc_x = fc_x.squeeze(-1)       \n",
        "        fc_x = self.dropout(fc_x)         \n",
        "\n",
        "        logit = self.fc(fc_x)     \n",
        "        \n",
        "        return logit"
      ],
      "metadata": {
        "id": "xWt-sqh1RJfQ"
      },
      "execution_count": 47,
      "outputs": []
    },
    {
      "cell_type": "markdown",
      "source": [
        "### Model Function"
      ],
      "metadata": {
        "id": "QZwxgmNlgP-f"
      }
    },
    {
      "cell_type": "code",
      "source": [
        "def train(model, device, train_itr, optimizer):\n",
        "    \n",
        "    model.train()                               \n",
        "    corrects, train_loss = 0.0,0        \n",
        "    \n",
        "    for batch in train_itr:\n",
        "        \n",
        "        text, target = batch.text, batch.label      \n",
        "        text = torch.transpose(text, 0, 1)          \n",
        "        target.data.sub_(1)                                 \n",
        "        text, target = text.to(device), target.to(device)  \n",
        "\n",
        "        optimizer.zero_grad()                           \n",
        "        logit = model(text)                         \n",
        "    \n",
        "        loss = F.cross_entropy(logit, target)   \n",
        "        loss.backward()  \n",
        "        optimizer.step()  \n",
        "        \n",
        "        train_loss += loss.item()    \n",
        "        result = torch.max(logit,1)[1] \n",
        "        corrects += (result.view(target.size()).data == target.data).sum()\n",
        "        \n",
        "    train_loss /= len(train_itr.dataset)\n",
        "    accuracy = 100.0 * corrects / len(train_itr.dataset)\n",
        "\n",
        "    return train_loss, accuracy"
      ],
      "metadata": {
        "id": "yLOYxApBRJhh"
      },
      "execution_count": 48,
      "outputs": []
    },
    {
      "cell_type": "markdown",
      "source": [
        "### Evaluate Function"
      ],
      "metadata": {
        "id": "SugoTLQrgVDa"
      }
    },
    {
      "cell_type": "code",
      "source": [
        "def evaluate(model, device, itr):\n",
        "    \n",
        "    model.eval()\n",
        "    corrects, test_loss = 0.0, 0\n",
        "\n",
        "    for batch in itr:\n",
        "        \n",
        "        text = batch.text\n",
        "        target = batch.label\n",
        "        text = torch.transpose(text, 0, 1)\n",
        "        target.data.sub_(1)\n",
        "        text, target = text.to(device), target.to(device)\n",
        "        \n",
        "        logit = model(text)\n",
        "        loss = F.cross_entropy(logit, target)\n",
        "\n",
        "        test_loss += loss.item()\n",
        "        result = torch.max(logit,1)[1]\n",
        "        corrects += (result.view(target.size()).data == target.data).sum()\n",
        "\n",
        "    test_loss /= len(itr.dataset) \n",
        "    accuracy = 100.0 * corrects / len(itr.dataset)\n",
        "    \n",
        "    return test_loss, accuracy"
      ],
      "metadata": {
        "id": "4lcDFn1ZRJj7"
      },
      "execution_count": 49,
      "outputs": []
    },
    {
      "cell_type": "markdown",
      "source": [
        "### Model Training"
      ],
      "metadata": {
        "id": "hdGJxlQJgY9a"
      }
    },
    {
      "cell_type": "code",
      "source": [
        "model = TextCNN(vocab, 100, 10, [3, 4, 5], 2).to(device)\n",
        "print(model)"
      ],
      "metadata": {
        "id": "DnbQLDWLRJmd",
        "colab": {
          "base_uri": "https://localhost:8080/"
        },
        "outputId": "b8aa7b54-8b5f-48b3-9796-a98bbe0c8aa1"
      },
      "execution_count": 50,
      "outputs": [
        {
          "output_type": "stream",
          "name": "stdout",
          "text": [
            "TextCNN(\n",
            "  (embed): Embedding(23770, 100)\n",
            "  (convs): ModuleList(\n",
            "    (0): Conv2d(1, 10, kernel_size=(3, 100), stride=(1, 1))\n",
            "    (1): Conv2d(1, 10, kernel_size=(4, 100), stride=(1, 1))\n",
            "    (2): Conv2d(1, 10, kernel_size=(5, 100), stride=(1, 1))\n",
            "  )\n",
            "  (relu): ReLU()\n",
            "  (dropout): Dropout(p=0.4, inplace=False)\n",
            "  (fc): Linear(in_features=30, out_features=2, bias=True)\n",
            ")\n"
          ]
        }
      ]
    },
    {
      "cell_type": "code",
      "source": [
        "device = torch.device('cuda' if torch.cuda.is_available() else 'cpu')\n",
        "\n",
        "optimizer = optim.Adam(model.parameters(), lr=0.001)\n",
        "\n",
        "best_test_acc =- 1"
      ],
      "metadata": {
        "id": "bQBA8QI-RJo6"
      },
      "execution_count": 51,
      "outputs": []
    },
    {
      "cell_type": "code",
      "source": [
        "for epoch in range(1, 10+1):\n",
        "    tr_loss, tr_acc = train(model, device, train_iter, optimizer)\n",
        "    print('Train Epoch: {} \\t Loss: {} \\t Accuracy: {}%'.format(epoch, tr_loss, tr_acc))\n",
        "\n",
        "    val_loss, val_acc = evaluate(model, device, validation_iter)\n",
        "    print('Valid Epoch: {} \\t Loss: {} \\t Accuracy: {}%'.format(epoch, val_loss, val_acc))\n",
        "\n",
        "    if val_acc > best_test_acc:\n",
        "        best_test_acc = val_acc\n",
        "\n",
        "        print('model saves at {} accuracy'.format(best_test_acc))\n",
        "        torch.save(model.state_dict(), 'TextCNN_Best_Validation')\n",
        "\n",
        "    print('---------------------------------------------------------------------------------------------')"
      ],
      "metadata": {
        "id": "IqjVUdUYRJrL",
        "colab": {
          "base_uri": "https://localhost:8080/"
        },
        "outputId": "9a01763d-0de9-4e74-c888-6b098449b9f5"
      },
      "execution_count": 53,
      "outputs": [
        {
          "output_type": "stream",
          "name": "stdout",
          "text": [
            "Train Epoch: 1 \t Loss: 0.06264056514789462 \t Accuracy: 76.76547241210938%\n",
            "Valid Epoch: 1 \t Loss: 0.07610681840262488 \t Accuracy: 67.19023132324219%\n",
            "---------------------------------------------------------------------------------------------\n",
            "Train Epoch: 2 \t Loss: 0.04885937886697475 \t Accuracy: 83.3914566040039%\n",
            "Valid Epoch: 2 \t Loss: 0.07545572207236165 \t Accuracy: 71.20418548583984%\n",
            "---------------------------------------------------------------------------------------------\n",
            "Train Epoch: 3 \t Loss: 0.036121083465717414 \t Accuracy: 89.668701171875%\n",
            "Valid Epoch: 3 \t Loss: 0.077138613395874 \t Accuracy: 71.02967071533203%\n",
            "---------------------------------------------------------------------------------------------\n",
            "Train Epoch: 4 \t Loss: 0.024637445700277736 \t Accuracy: 93.59197998046875%\n",
            "Valid Epoch: 4 \t Loss: 0.08317634879398512 \t Accuracy: 67.71379089355469%\n",
            "---------------------------------------------------------------------------------------------\n",
            "Train Epoch: 5 \t Loss: 0.016388507940706575 \t Accuracy: 96.29468536376953%\n",
            "Valid Epoch: 5 \t Loss: 0.08632426727140553 \t Accuracy: 69.98255157470703%\n",
            "---------------------------------------------------------------------------------------------\n",
            "Train Epoch: 6 \t Loss: 0.010987896780558937 \t Accuracy: 97.6024398803711%\n",
            "Valid Epoch: 6 \t Loss: 0.09121693735763457 \t Accuracy: 71.55323028564453%\n",
            "---------------------------------------------------------------------------------------------\n",
            "Train Epoch: 7 \t Loss: 0.009011456233679879 \t Accuracy: 98.03836059570312%\n",
            "Valid Epoch: 7 \t Loss: 0.09360187265365327 \t Accuracy: 70.68062591552734%\n",
            "---------------------------------------------------------------------------------------------\n",
            "Train Epoch: 8 \t Loss: 0.006374608811301422 \t Accuracy: 98.6922378540039%\n",
            "Valid Epoch: 8 \t Loss: 0.09864432527236705 \t Accuracy: 69.80802917480469%\n",
            "---------------------------------------------------------------------------------------------\n",
            "Train Epoch: 9 \t Loss: 0.0058916268926361495 \t Accuracy: 98.77942657470703%\n",
            "Valid Epoch: 9 \t Loss: 0.10155130768061517 \t Accuracy: 68.9354248046875%\n",
            "---------------------------------------------------------------------------------------------\n",
            "Train Epoch: 10 \t Loss: 0.0043427455311440336 \t Accuracy: 99.1717529296875%\n",
            "Valid Epoch: 10 \t Loss: 0.11052192635769204 \t Accuracy: 68.58638763427734%\n",
            "---------------------------------------------------------------------------------------------\n"
          ]
        }
      ]
    },
    {
      "cell_type": "code",
      "source": [
        ""
      ],
      "metadata": {
        "id": "QD1xzEhABcRY"
      },
      "execution_count": null,
      "outputs": []
    }
  ]
}